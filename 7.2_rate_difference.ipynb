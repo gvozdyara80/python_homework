{
 "cells": [
  {
   "cell_type": "markdown",
   "id": "14667782",
   "metadata": {},
   "source": [
    "### Задание 2\n",
    "\n",
    "Добавьте в класс Rate параметр diff (со значениями True или False), который в случае значения True в методах курсов валют (eur, usd и т. д.), будет возвращать не курс валюты, а изменение по сравнению с прошлым значением. Считайте, что значение diff=True параметр будет принимать только при возврате значения курса (format_=‘value’). При отображении всей информации о валюте (format_=‘full’) он не используется."
   ]
  },
  {
   "cell_type": "code",
   "execution_count": 8,
   "id": "696e7a1b",
   "metadata": {},
   "outputs": [],
   "source": [
    "import requests\n",
    "\n",
    "class Rate:\n",
    "    def __init__(self, format_='value', check='True'):\n",
    "        self.format = format_\n",
    "        self.check = check\n",
    "    \n",
    "    def exchange_rates(self):\n",
    "        r = requests.get('https://www.cbr-xml-daily.ru/daily_json.js')\n",
    "        return r.json()['Valute']\n",
    "    \n",
    "    def diff(self, check):\n",
    "        self.check = check\n",
    "    \n",
    "    def make_format(self, currency):\n",
    "        response = self.exchange_rates()\n",
    "        \n",
    "        if currency in response:\n",
    "            if self.format == 'full':\n",
    "                return response[currency]\n",
    "            \n",
    "            if self.format == 'value':\n",
    "                if self.check =='True':\n",
    "                    difference = response[currency]['Previous'] - response[currency]['Value']\n",
    "                    \n",
    "                    return difference\n",
    "                \n",
    "                else:    \n",
    "                    return response[currency]['Value']\n",
    "            \n",
    "    def eur(self):\n",
    "        \"\"\"Возвращает курс евро на сегодня в формате self.format\"\"\"\n",
    "        return self.make_format('EUR')\n",
    "    \n",
    "    def usd(self):\n",
    "        \"\"\"Возвращает курс доллара на сегодня в формате self.format\"\"\"\n",
    "        return self.make_format('USD')\n",
    "    \n",
    "    def brl(self):\n",
    "        \"\"\"Возвращает курс бразильского реала на сегодня в формате self.format\"\"\"\n",
    "        return self.make_format('BRL')"
   ]
  },
  {
   "cell_type": "code",
   "execution_count": 10,
   "id": "4fdfa251",
   "metadata": {},
   "outputs": [
    {
     "data": {
      "text/plain": [
       "0.10710000000000264"
      ]
     },
     "execution_count": 10,
     "metadata": {},
     "output_type": "execute_result"
    }
   ],
   "source": [
    "Rate('value', 'True').usd()"
   ]
  },
  {
   "cell_type": "code",
   "execution_count": 11,
   "id": "0e4b56f8",
   "metadata": {},
   "outputs": [
    {
     "data": {
      "text/plain": [
       "93.173"
      ]
     },
     "execution_count": 11,
     "metadata": {},
     "output_type": "execute_result"
    }
   ],
   "source": [
    "Rate('value', 'False').usd()"
   ]
  }
 ],
 "metadata": {
  "kernelspec": {
   "display_name": "Python 3",
   "language": "python",
   "name": "python3"
  },
  "language_info": {
   "codemirror_mode": {
    "name": "ipython",
    "version": 3
   },
   "file_extension": ".py",
   "mimetype": "text/x-python",
   "name": "python",
   "nbconvert_exporter": "python",
   "pygments_lexer": "ipython3",
   "version": "3.8.8"
  }
 },
 "nbformat": 4,
 "nbformat_minor": 5
}
