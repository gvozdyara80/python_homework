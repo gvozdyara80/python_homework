{
 "cells": [
  {
   "cell_type": "markdown",
   "id": "f7b809c3",
   "metadata": {},
   "source": [
    "### Задание 2\n",
    "\n",
    "Используйте файл keywords.csv.\n",
    "\n",
    "Нужно написать гео-классификатор, который каждой строке сможет выставить географическую принадлежность определённому региону. Т.е. если поисковый запрос содержит название города региона, то в столбце 'region' пишется название этого региона. Если поисковый запрос не содержит названия города, то ставим 'undefined'.\n",
    "\n",
    "Правила распределения по регионам Центр, Северо-Запад и Дальний Восток:  \n",
    "\n",
    "geo_data = {  \n",
    "            'Центр': ['москва', 'тула', 'ярославль'],  \n",
    "            'Северо-Запад': ['петербург', 'псков', 'мурманск'],  \n",
    "            'Дальний Восток': ['владивосток', 'сахалин', 'хабаровск']  \n",
    "            }\n",
    "\n",
    "Результат классификации запишите в отдельный столбец 'region'."
   ]
  },
  {
   "cell_type": "code",
   "execution_count": 19,
   "id": "4ad7869d",
   "metadata": {
    "scrolled": true
   },
   "outputs": [],
   "source": [
    "import pandas as pd\n",
    "\n",
    "requests = pd.read_csv(\"keywords.csv\")"
   ]
  },
  {
   "cell_type": "code",
   "execution_count": 20,
   "id": "e7ceff4c",
   "metadata": {
    "scrolled": false
   },
   "outputs": [
    {
     "data": {
      "text/html": [
       "<div>\n",
       "<style scoped>\n",
       "    .dataframe tbody tr th:only-of-type {\n",
       "        vertical-align: middle;\n",
       "    }\n",
       "\n",
       "    .dataframe tbody tr th {\n",
       "        vertical-align: top;\n",
       "    }\n",
       "\n",
       "    .dataframe thead th {\n",
       "        text-align: right;\n",
       "    }\n",
       "</style>\n",
       "<table border=\"1\" class=\"dataframe\">\n",
       "  <thead>\n",
       "    <tr style=\"text-align: right;\">\n",
       "      <th></th>\n",
       "      <th>keyword</th>\n",
       "      <th>shows</th>\n",
       "    </tr>\n",
       "  </thead>\n",
       "  <tbody>\n",
       "    <tr>\n",
       "      <th>0</th>\n",
       "      <td>вк</td>\n",
       "      <td>64292779</td>\n",
       "    </tr>\n",
       "    <tr>\n",
       "      <th>1</th>\n",
       "      <td>одноклассники</td>\n",
       "      <td>63810309</td>\n",
       "    </tr>\n",
       "    <tr>\n",
       "      <th>2</th>\n",
       "      <td>порно</td>\n",
       "      <td>41747114</td>\n",
       "    </tr>\n",
       "    <tr>\n",
       "      <th>3</th>\n",
       "      <td>ютуб</td>\n",
       "      <td>39995567</td>\n",
       "    </tr>\n",
       "    <tr>\n",
       "      <th>4</th>\n",
       "      <td>вконтакте</td>\n",
       "      <td>21014195</td>\n",
       "    </tr>\n",
       "  </tbody>\n",
       "</table>\n",
       "</div>"
      ],
      "text/plain": [
       "         keyword     shows\n",
       "0             вк  64292779\n",
       "1  одноклассники  63810309\n",
       "2          порно  41747114\n",
       "3           ютуб  39995567\n",
       "4      вконтакте  21014195"
      ]
     },
     "execution_count": 20,
     "metadata": {},
     "output_type": "execute_result"
    }
   ],
   "source": [
    "requests.head()"
   ]
  },
  {
   "cell_type": "code",
   "execution_count": 21,
   "id": "74a22f3a",
   "metadata": {
    "scrolled": true
   },
   "outputs": [
    {
     "name": "stdout",
     "output_type": "stream",
     "text": [
      "<class 'pandas.core.frame.DataFrame'>\n",
      "RangeIndex: 100000 entries, 0 to 99999\n",
      "Data columns (total 2 columns):\n",
      " #   Column   Non-Null Count   Dtype \n",
      "---  ------   --------------   ----- \n",
      " 0   keyword  100000 non-null  object\n",
      " 1   shows    100000 non-null  int64 \n",
      "dtypes: int64(1), object(1)\n",
      "memory usage: 1.5+ MB\n"
     ]
    }
   ],
   "source": [
    "requests.info()"
   ]
  },
  {
   "cell_type": "code",
   "execution_count": 22,
   "id": "ca6f5a29",
   "metadata": {
    "scrolled": true
   },
   "outputs": [],
   "source": [
    "# Словарь {'регион' : ['город']}\n",
    "geo_data = {\n",
    "    'Центр': ['москва', 'тула', 'ярославль'],\n",
    "    'Северо-Запад': ['петербург', 'псков', 'мурманск'],\n",
    "    'Дальний Восток': ['владивосток', 'сахалин', 'хабаровск']\n",
    "}"
   ]
  },
  {
   "cell_type": "code",
   "execution_count": 23,
   "id": "0928ec71",
   "metadata": {
    "scrolled": false
   },
   "outputs": [
    {
     "data": {
      "text/plain": [
       "{'москва': 'Центр',\n",
       " 'тула': 'Центр',\n",
       " 'ярославль': 'Центр',\n",
       " 'петербург': 'Северо-Запад',\n",
       " 'псков': 'Северо-Запад',\n",
       " 'мурманск': 'Северо-Запад',\n",
       " 'владивосток': 'Дальний Восток',\n",
       " 'сахалин': 'Дальний Восток',\n",
       " 'хабаровск': 'Дальний Восток'}"
      ]
     },
     "execution_count": 23,
     "metadata": {},
     "output_type": "execute_result"
    }
   ],
   "source": [
    "# Словарь {'город' : ['регион']}\n",
    "new_geo_data = {}\n",
    "for i in geo_data:\n",
    "    for j in geo_data[i]:\n",
    "        new_geo_data[j] = i\n",
    "new_geo_data"
   ]
  },
  {
   "cell_type": "code",
   "execution_count": 27,
   "id": "33943068",
   "metadata": {
    "scrolled": true
   },
   "outputs": [],
   "source": [
    "def define_region(i):\n",
    "    for j in new_geo_data.keys():\n",
    "        if j.lower() in i.lower():\n",
    "            return j\n",
    "            break\n",
    "    return 'undefined'"
   ]
  },
  {
   "cell_type": "code",
   "execution_count": 28,
   "id": "1f7694d9",
   "metadata": {
    "scrolled": true
   },
   "outputs": [],
   "source": [
    "requests['region'] = requests['keyword'].apply(define_region)"
   ]
  },
  {
   "cell_type": "code",
   "execution_count": null,
   "id": "fc11d5e2",
   "metadata": {
    "scrolled": true
   },
   "outputs": [],
   "source": [
    "# Проверка"
   ]
  },
  {
   "cell_type": "code",
   "execution_count": 29,
   "id": "1ff769e5",
   "metadata": {
    "scrolled": true
   },
   "outputs": [
    {
     "data": {
      "text/html": [
       "<div>\n",
       "<style scoped>\n",
       "    .dataframe tbody tr th:only-of-type {\n",
       "        vertical-align: middle;\n",
       "    }\n",
       "\n",
       "    .dataframe tbody tr th {\n",
       "        vertical-align: top;\n",
       "    }\n",
       "\n",
       "    .dataframe thead th {\n",
       "        text-align: right;\n",
       "    }\n",
       "</style>\n",
       "<table border=\"1\" class=\"dataframe\">\n",
       "  <thead>\n",
       "    <tr style=\"text-align: right;\">\n",
       "      <th></th>\n",
       "      <th>keyword</th>\n",
       "      <th>shows</th>\n",
       "      <th>region</th>\n",
       "    </tr>\n",
       "  </thead>\n",
       "  <tbody>\n",
       "    <tr>\n",
       "      <th>127</th>\n",
       "      <td>авито москва</td>\n",
       "      <td>979292</td>\n",
       "      <td>москва</td>\n",
       "    </tr>\n",
       "    <tr>\n",
       "      <th>370</th>\n",
       "      <td>авито ру санкт петербург</td>\n",
       "      <td>425134</td>\n",
       "      <td>петербург</td>\n",
       "    </tr>\n",
       "    <tr>\n",
       "      <th>564</th>\n",
       "      <td>погода в санкт петербурге</td>\n",
       "      <td>292489</td>\n",
       "      <td>петербург</td>\n",
       "    </tr>\n",
       "    <tr>\n",
       "      <th>849</th>\n",
       "      <td>авито ярославль</td>\n",
       "      <td>209581</td>\n",
       "      <td>ярославль</td>\n",
       "    </tr>\n",
       "    <tr>\n",
       "      <th>1063</th>\n",
       "      <td>фарпост владивосток</td>\n",
       "      <td>176951</td>\n",
       "      <td>владивосток</td>\n",
       "    </tr>\n",
       "    <tr>\n",
       "      <th>1236</th>\n",
       "      <td>банк санкт петербург</td>\n",
       "      <td>174375</td>\n",
       "      <td>петербург</td>\n",
       "    </tr>\n",
       "    <tr>\n",
       "      <th>1259</th>\n",
       "      <td>москва</td>\n",
       "      <td>153050</td>\n",
       "      <td>москва</td>\n",
       "    </tr>\n",
       "    <tr>\n",
       "      <th>1346</th>\n",
       "      <td>санкт петербург</td>\n",
       "      <td>144232</td>\n",
       "      <td>петербург</td>\n",
       "    </tr>\n",
       "    <tr>\n",
       "      <th>1396</th>\n",
       "      <td>гисметео москва</td>\n",
       "      <td>140279</td>\n",
       "      <td>москва</td>\n",
       "    </tr>\n",
       "    <tr>\n",
       "      <th>1482</th>\n",
       "      <td>госуслуги москва</td>\n",
       "      <td>133061</td>\n",
       "      <td>москва</td>\n",
       "    </tr>\n",
       "  </tbody>\n",
       "</table>\n",
       "</div>"
      ],
      "text/plain": [
       "                        keyword   shows       region\n",
       "127                авито москва  979292       москва\n",
       "370    авито ру санкт петербург  425134    петербург\n",
       "564   погода в санкт петербурге  292489    петербург\n",
       "849             авито ярославль  209581    ярославль\n",
       "1063        фарпост владивосток  176951  владивосток\n",
       "1236       банк санкт петербург  174375    петербург\n",
       "1259                     москва  153050       москва\n",
       "1346            санкт петербург  144232    петербург\n",
       "1396            гисметео москва  140279       москва\n",
       "1482           госуслуги москва  133061       москва"
      ]
     },
     "execution_count": 29,
     "metadata": {},
     "output_type": "execute_result"
    }
   ],
   "source": [
    "requests.query('region != \"undefined\"').head(10)"
   ]
  }
 ],
 "metadata": {
  "kernelspec": {
   "display_name": "Python 3",
   "language": "python",
   "name": "python3"
  },
  "language_info": {
   "codemirror_mode": {
    "name": "ipython",
    "version": 3
   },
   "file_extension": ".py",
   "mimetype": "text/x-python",
   "name": "python",
   "nbconvert_exporter": "python",
   "pygments_lexer": "ipython3",
   "version": "3.8.8"
  }
 },
 "nbformat": 4,
 "nbformat_minor": 5
}
