{
 "cells": [
  {
   "cell_type": "markdown",
   "id": "6c507e5e",
   "metadata": {},
   "source": [
    "### Задание 1\n",
    "Печатные газеты использовали свой формат дат для каждого выпуска.\\\n",
    "Для каждой газеты из списка напишите формат указанной даты для перевода в объект datetime:\n",
    "- The Moscow Times - Wednesday, October 2, 2002\n",
    "- The Guardian - Friday, 11.10.13\n",
    "- Daily News - Thursday, 18 August 1977\n",
    "\n",
    "Пример работы программы:\\\n",
    "Программа должна выводить на экран объекты типа datetime, соответствующие датам в условии задачи"
   ]
  },
  {
   "cell_type": "code",
   "execution_count": null,
   "id": "abd756fe",
   "metadata": {},
   "outputs": [],
   "source": [
    "from datetime import datetime\n",
    "\n",
    "mt_date = ('Wednesday, October 2, 2002')\n",
    "g_date = ('Friday, 11.10.13')\n",
    "dn_date = ('Thursday, 18 August 1977')\n",
    "\n",
    "mt_dt = datetime.strptime(mt_date, '%A, %B %d, %Y')\n",
    "g_dt = datetime.strptime(g_date, '%A, %d.%m.%y')\n",
    "dn_dt = datetime.strptime(dn_date, '%A, %d %B %Y')\n",
    "\n",
    "#print(mt_dt, g_dt, dn_dt, sep='\\n')\n",
    "\n",
    "print(datetime.strftime(mt_dt, '%Y-%m-%d'), datetime.strftime(g_dt, '%Y-%m-%d'), datetime.strftime(dn_dt, '%Y-%m-%d'), sep='\\n')"
   ]
  }
 ],
 "metadata": {
  "kernelspec": {
   "display_name": "Python 3",
   "language": "python",
   "name": "python3"
  },
  "language_info": {
   "codemirror_mode": {
    "name": "ipython",
    "version": 3
   },
   "file_extension": ".py",
   "mimetype": "text/x-python",
   "name": "python",
   "nbconvert_exporter": "python",
   "pygments_lexer": "ipython3",
   "version": "3.8.8"
  }
 },
 "nbformat": 4,
 "nbformat_minor": 5
}
