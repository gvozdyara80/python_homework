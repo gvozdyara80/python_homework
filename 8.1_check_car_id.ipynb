{
 "cells": [
  {
   "cell_type": "markdown",
   "id": "a3562506",
   "metadata": {},
   "source": [
    "### Задание 1\n",
    "\n",
    "Напишите функцию, которая принимает на вход строку и проверяет, является ли она валидным транспортным номером (1 буква, 3 цифры, 2 буквы, 2–3 цифры). Обратите внимание, что не все буквы кириллического алфавита используются в транспортных номерах. \n",
    "Если номер валиден, то функция должна возвращать отдельно номер и регион.\n",
    "\n",
    "Примеры работы программы:\n",
    "\n",
    "car_id = 'А222BС96’.  \n",
    "Результат: Номер А222BС валиден. Регион: 96.\n",
    "\n",
    "car_id = 'АБ22ВВ193’.  \n",
    "Результат: Номер не валиден."
   ]
  },
  {
   "cell_type": "code",
   "execution_count": 46,
   "id": "b4a3931e",
   "metadata": {},
   "outputs": [
    {
     "name": "stdout",
     "output_type": "stream",
     "text": [
      "Введите номер в формате х000хх00 или х000хх000: а158ух77\n",
      "Номер а158ух валиден. Регион: 77.\n"
     ]
    }
   ],
   "source": [
    "import re\n",
    "\n",
    "car_id = input('Введите номер в формате х000хх00 или х000хх000: ')\n",
    "\n",
    "def check_car_id(car_id):\n",
    "    car_id_mask = re.compile(r'[авекмнорстух]{1}\\d{3}(?<!000)[авекмнорстух]{2}\\d{2,3}$')\n",
    "\n",
    "    if car_id_mask.search(car_id):\n",
    "        print('Номер {} валиден. Регион: {}.'.format(car_id[:6], car_id[6:]))\n",
    "    \n",
    "    else:\n",
    "        print('Номер не валиден')\n",
    "\n",
    "check_car_id(car_id)"
   ]
  }
 ],
 "metadata": {
  "kernelspec": {
   "display_name": "Python 3",
   "language": "python",
   "name": "python3"
  },
  "language_info": {
   "codemirror_mode": {
    "name": "ipython",
    "version": 3
   },
   "file_extension": ".py",
   "mimetype": "text/x-python",
   "name": "python",
   "nbconvert_exporter": "python",
   "pygments_lexer": "ipython3",
   "version": "3.8.8"
  }
 },
 "nbformat": 4,
 "nbformat_minor": 5
}
