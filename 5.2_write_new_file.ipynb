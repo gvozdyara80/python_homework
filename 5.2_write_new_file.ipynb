{
 "cells": [
  {
   "cell_type": "markdown",
   "id": "08bb765b",
   "metadata": {},
   "source": [
    "### Задание 2.\n",
    "\n",
    "Для каждого user_id в файле visit_log.csv определите третий столбец с категорией покупки.\\\n",
    "Если покупка была, сам файл visit_log.csv изменять не надо.\\\n",
    "Запишите в файл funnel.csv визиты из файла visit_log.csv, в которых были покупки с указанием категории.\\\n",
    "Учтите условия для данных:\n",
    "- содержимое purchase_log.txt помещается в оперативную память компьютера;\n",
    "- содержимое visit_log.csv — нет, используйте только построчную обработку этого файла.\n",
    "\n",
    "Примеры работы программы при выводе первых трёх строк файла funnel.csv:\\\n",
    "user_id,source,category\\\n",
    "1840e0b9d4,other,Продукты\\\n",
    "4e4f90fcfb,context,Электроника"
   ]
  },
  {
   "cell_type": "code",
   "execution_count": 24,
   "id": "eea08736",
   "metadata": {},
   "outputs": [],
   "source": [
    "import json\n",
    "\n",
    "category = {} \n",
    "\n",
    "with open('purchase_log.txt', encoding = 'utf-8') as f_1: \n",
    "    for i, line in enumerate(f_1): \n",
    "\n",
    "        dict_ = json.loads(line) \n",
    "\n",
    "        key = dict_['user_id']\n",
    "        value = dict_['category']\n",
    "\n",
    "        category[key] = value\n",
    "\n",
    "\n",
    "with open('visit_log.csv', encoding = 'utf-8') as f_2, open('funnel.csv','w', encoding='ANSI') as f_3:\n",
    "    for i, line in enumerate(f_2):\n",
    "        line = line.strip().split(',')\n",
    "        \n",
    "        if line[0] in category.keys():\n",
    "            line.append(category[line[0]])\n",
    "            full_line = ','.join(line)\n",
    "\n",
    "            f_3.write(full_line + '\\n')"
   ]
  }
 ],
 "metadata": {
  "kernelspec": {
   "display_name": "Python 3",
   "language": "python",
   "name": "python3"
  },
  "language_info": {
   "codemirror_mode": {
    "name": "ipython",
    "version": 3
   },
   "file_extension": ".py",
   "mimetype": "text/x-python",
   "name": "python",
   "nbconvert_exporter": "python",
   "pygments_lexer": "ipython3",
   "version": "3.8.8"
  }
 },
 "nbformat": 4,
 "nbformat_minor": 5
}
