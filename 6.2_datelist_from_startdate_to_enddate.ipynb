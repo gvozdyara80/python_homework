{
 "cells": [
  {
   "cell_type": "markdown",
   "id": "61e8a28b",
   "metadata": {},
   "source": [
    "### Задание 2\n",
    "\n",
    "Напишите функцию date_range, которая возвращает список дат за период от start_date до end_date.\\\n",
    "Даты должны вводиться в формате YYYY-MM-DD.\\\n",
    "В случае неверного формата или при start_date > end_date должен возвращаться пустой список.\n",
    "\n",
    "Пример вывода:\n",
    "\n",
    "date_range(‘2022-01-01’, ‘2022-01-03’)\\\n",
    "[‘2022-01-01’, ‘2022-01-02’, ‘2022-01-03’]\n",
    "\n",
    "date_range(‘2022-01-03’, ‘2022-01-01’)\\\n",
    "[]\n",
    "\n",
    "date_range(‘2022-02-30’, ‘2022-02-31’)\n",
    "\n",
    "[]"
   ]
  },
  {
   "cell_type": "code",
   "execution_count": null,
   "id": "28f5a3dd",
   "metadata": {},
   "outputs": [],
   "source": [
    "from datetime import datetime, timedelta\n",
    "import calendar\n",
    "\n",
    "start_date=input('Введите дату начала (YYYY-MM-DD): ')\n",
    "end_date=input('Введите дату окончания (YYYY-MM-DD): ')\n",
    "\n",
    "def date_range(start_date, end_date):\n",
    "\n",
    "    date_list = []\n",
    "    \n",
    "    try:\n",
    "        start_dt = datetime.strptime(start_date, '%Y-%m-%d')\n",
    "        end_dt = datetime.strptime(end_date, '%Y-%m-%d')\n",
    "\n",
    "    except ValueError:\n",
    "        return(date_list)\n",
    "\n",
    "    if start_dt > end_dt:\n",
    "        return(date_list)\n",
    "\n",
    "    else:\n",
    "        start_dt_out = datetime.strftime(start_dt, '%Y-%m-%d')\n",
    "        date_list = [start_dt_out]\n",
    "        next_dt = start_dt\n",
    "\n",
    "        while next_dt < end_dt:\n",
    "            days_in_month = calendar.monthrange(next_dt.year, next_dt.month)[1]\n",
    "            next_dt += timedelta(days=days_in_month)\n",
    "            next_dt_out = datetime.strftime(next_dt, '%Y-%m-%d')\n",
    "            date_list.append(next_dt_out)\n",
    "        \n",
    "        return(date_list)\n",
    "\n",
    "date_range(start_date, end_date)"
   ]
  }
 ],
 "metadata": {
  "kernelspec": {
   "display_name": "Python 3",
   "language": "python",
   "name": "python3"
  },
  "language_info": {
   "codemirror_mode": {
    "name": "ipython",
    "version": 3
   },
   "file_extension": ".py",
   "mimetype": "text/x-python",
   "name": "python",
   "nbconvert_exporter": "python",
   "pygments_lexer": "ipython3",
   "version": "3.8.8"
  }
 },
 "nbformat": 4,
 "nbformat_minor": 5
}
