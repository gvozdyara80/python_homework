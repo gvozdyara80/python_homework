{
 "cells": [
  {
   "cell_type": "markdown",
   "id": "ddd92ee9",
   "metadata": {},
   "source": [
    "### Задание 1\n",
    "\n",
    "Переведите содержимое файла _purchase_log.txt_ в словарь _purchases_ вида:\\\n",
    "{‘1840e0b9d4’: ‘Продукты’, …}\n",
    "\n",
    "Пример работы программы при выводе первых двух элементов словаря _purchases_:\\\n",
    "1840e0b9d4 ‘Продукты‘  \n",
    "4e4f90fcfb  ‘Электроника‘ "
   ]
  },
  {
   "cell_type": "code",
   "execution_count": null,
   "id": "f4e6bd18",
   "metadata": {},
   "outputs": [],
   "source": [
    "import json\n",
    "\n",
    "purchases = {} \n",
    "\n",
    "with open('purchase_log.txt', encoding = 'utf-8') as f: \n",
    "    for i, line in enumerate(f): \n",
    "\n",
    "        dict_ = json.loads(line) \n",
    "\n",
    "        key = dict_['user_id']\n",
    "        value = dict_['category']\n",
    "\n",
    "        purchases[key] = value"
   ]
  }
 ],
 "metadata": {
  "kernelspec": {
   "display_name": "Python 3",
   "language": "python",
   "name": "python3"
  },
  "language_info": {
   "codemirror_mode": {
    "name": "ipython",
    "version": 3
   },
   "file_extension": ".py",
   "mimetype": "text/x-python",
   "name": "python",
   "nbconvert_exporter": "python",
   "pygments_lexer": "ipython3",
   "version": "3.8.8"
  }
 },
 "nbformat": 4,
 "nbformat_minor": 5
}
